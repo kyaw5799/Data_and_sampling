{
 "cells": [
  {
   "cell_type": "code",
   "execution_count": 22,
   "id": "9b9902a5",
   "metadata": {},
   "outputs": [],
   "source": [
    "# first we need to import require module \n",
    "import numpy as np \n",
    "# numpy use for scientific computing\n",
    "\n",
    "import matplotlib.pyplot as plt \n",
    "# matplotlib use for create graph and visualize your results\n",
    "\n",
    "import pandas as pd \n",
    "# pandas use for read dataset , create dataframe and handling the data\n",
    "\n",
    "from scipy import stats \n",
    "# scipy use for statistical computing\n",
    "\n",
    "from sklearn.utils import resample \n",
    "# sklearn.utils use for  resample arrays or sparse matrices in a consistent way\n",
    "\n",
    "import seaborn as sns \n",
    "# seaborn use for making statistical graphics"
   ]
  },
  {
   "cell_type": "code",
   "execution_count": 23,
   "id": "fdec09b1",
   "metadata": {},
   "outputs": [],
   "source": [
    "# read loan dataset and sp500 \n",
    "# note : data file have not same path you need to add specific path\n",
    "loan_csv = pd.read_csv('D:\\practical-statistics-for-data-scientists-master\\practical-statistics-for-data-scientists-master\\data\\loans_income.csv',squeeze=True)\n",
    "sp500_csv = pd.read_csv('D:\\practical-statistics-for-data-scientists-master\\practical-statistics-for-data-scientists-master\\data\\sp500_sectors.csv',squeeze=True)\n",
    "#print(loan_csv.max())"
   ]
  },
  {
   "cell_type": "code",
   "execution_count": 24,
   "id": "28048287",
   "metadata": {},
   "outputs": [
    {
     "name": "stdout",
     "output_type": "stream",
     "text": [
      "        income  type\n",
      "4469   35000.0  data\n",
      "120    80000.0  data\n",
      "7520   45849.0  data\n",
      "24124  86000.0  data\n",
      "29520  83682.0  data\n"
     ]
    },
    {
     "data": {
      "text/plain": [
       "\" \\n    firstly create sample data (use dataframe function) from import csv data eg.(loan_csv or sp500_csv), we find mean of sample(5) from \\n    sample import csv data and we also find mean of sample(20) finally we create 'results' object to combine above 3 conditions \\n    (use pandas concat funtion) and we will show  'results'.\\n\\n\""
      ]
     },
     "execution_count": 24,
     "metadata": {},
     "output_type": "execute_result"
    }
   ],
   "source": [
    "# sampling and distribution of statistics \n",
    "sample_data = pd.DataFrame({'income':loan_csv.sample(1000),'type':'data'})\n",
    "sample_mean_05 = pd.DataFrame({'income':[loan_csv.sample(5).mean() for _ in range(1000)], 'type':'mean_of_05'})\n",
    "sample_mean_20 = pd.DataFrame({'income':[loan_csv.sample(20).mean() for _ in range(1000)],'type':'mean_of_20'})\n",
    "results = pd.concat([sample_data,sample_mean_05,sample_mean_20])\n",
    "# concat function is Concatenate pandas objects along a particular axis with optional set logic along the other axes.\n",
    "print(results.head())\n",
    "\n",
    "\"\"\" \n",
    "    firstly create sample data (use dataframe function) from import csv data eg.(loan_csv or sp500_csv), we find mean of sample(5) from \n",
    "    sample import csv data and we also find mean of sample(20) finally we create 'results' object to combine above 3 conditions \n",
    "    (use pandas concat funtion) and we will show  'results'.\n",
    "\n",
    "\"\"\"\n"
   ]
  },
  {
   "cell_type": "code",
   "execution_count": 25,
   "id": "5094ee10",
   "metadata": {},
   "outputs": [
    {
     "data": {
      "image/png": "[encoded data removed]",
      "text/plain": [
       "<Figure size 288x432 with 3 Axes>"
      ]
     },
     "metadata": {
      "needs_background": "light"
     },
     "output_type": "display_data"
    },
    {
     "data": {
      "text/plain": [
       "\"\\n    use seaborn to create graph, firstly create a object to create facetgrid, seaborn's FacetGrid function take 5 arguments\\n    we will assign and use map function and than assign (hist,col_name,data_range,bins) and add labels and then we will show \\n    the results.\\n\""
      ]
     },
     "execution_count": 25,
     "metadata": {},
     "output_type": "execute_result"
    }
   ],
   "source": [
    "# draw graph\n",
    "data_graph = sns.FacetGrid(results,col='type',col_wrap=1,height=2,aspect=2)\n",
    "# facetgrid use for Multi-plot grid for plotting conditional relationships\n",
    "\n",
    "data_graph.map(plt.hist,'income',range=[0,200000],bins=40)\n",
    "data_graph.set_axis_labels('Income','Count')\n",
    "#data_graph.set_titles({'col_name'})\n",
    "plt.tight_layout()\n",
    "plt.show()\n",
    "\n",
    "\"\"\"\n",
    "    use seaborn to create graph, firstly create a object to create facetgrid, seaborn's FacetGrid function take 5 arguments\n",
    "    we will assign and use map function and than assign (hist,col_name,data_range,bins) and add labels and then we will show \n",
    "    the results.\n",
    "\"\"\""
   ]
  },
  {
   "cell_type": "code",
   "execution_count": 6,
   "id": "3cffaaed",
   "metadata": {},
   "outputs": [
    {
     "name": "stdout",
     "output_type": "stream",
     "text": [
      "This is original value :  62000.0\n",
      "This is bias vlaue :  income    6301.052783\n",
      "dtype: float64\n",
      "This is std_error :  income    19867.991735\n",
      "dtype: float64\n"
     ]
    },
    {
     "name": "stderr",
     "output_type": "stream",
     "text": [
      "C:\\Users\\DELL\\AppData\\Local\\Temp/ipykernel_3964/596550925.py:8: FutureWarning: Dropping of nuisance columns in DataFrame reductions (with 'numeric_only=None') is deprecated; in a future version this will raise TypeError.  Select only valid columns before calling the reduction.\n",
      "  bias = (results.mean() - loan_csv.median())\n",
      "C:\\Users\\DELL\\AppData\\Local\\Temp/ipykernel_3964/596550925.py:9: FutureWarning: Dropping of nuisance columns in DataFrame reductions (with 'numeric_only=None') is deprecated; in a future version this will raise TypeError.  Select only valid columns before calling the reduction.\n",
      "  std_error = results.std()\n"
     ]
    }
   ],
   "source": [
    "# the bootstrap\n",
    "resutls = []\n",
    "for n in range(1000):\n",
    "    sample = resample(loan_csv)\n",
    "    resutls.append(sample.median())\n",
    "resutls = pd.Series(resutls)\n",
    "original = loan_csv.median()\n",
    "bias = (results.mean() - loan_csv.median())\n",
    "std_error = results.std()\n",
    "print('This is original value : ',original)\n",
    "print('This is bias vlaue : ', bias)\n",
    "print('This is std_error : ',std_error)\n",
    "\n",
    "\"\"\"\n",
    "    in the bootstrap we will find 3 conditions 1.original mean (or) median value , 2.bias value from sample dataset , \n",
    "    3.standard error of our results.\n",
    "\"\"\""
   ]
  },
  {
   "cell_type": "code",
   "execution_count": 8,
   "id": "4539bb26",
   "metadata": {},
   "outputs": [
    {
     "name": "stdout",
     "output_type": "stream",
     "text": [
      "This is loan mean :  68760.51844\n",
      "This is sample 20 mean :  73881.0\n",
      "This is confidence intervals :  [55000.0, 85000.0]\n"
     ]
    },
    {
     "data": {
      "image/png": "[encoded data removed]",
      "text/plain": [
       "<Figure size 288x216 with 1 Axes>"
      ]
     },
     "metadata": {
      "needs_background": "light"
     },
     "output_type": "display_data"
    }
   ],
   "source": [
    "# confidence intervals\n",
    "print('This is loan mean : ',loan_csv.mean())\n",
    "# create a sample of 20 loan data\n",
    "\n",
    "sample_20 = resample(loan_csv,n_samples=20,replace=False)\n",
    "print('This is sample 20 mean : ',sample_20.mean())\n",
    "\n",
    "results = []\n",
    "for n in range(500):\n",
    "    sample = resample(sample_20)\n",
    "    results.append(sample.median())\n",
    "results = pd.Series(results)\n",
    "\n",
    "confidence_intervals = list(results.quantile([0.05,0.95]))\n",
    "print('This is confidence intervals : ',confidence_intervals)\n",
    "ax = results.plot.hist(bins=30,figsize=(4,3))\n",
    "ax.plot(confidence_intervals,[55,55],color='black')\n",
    "for x in confidence_intervals:\n",
    "    ax.plot([x,x],[0,65],color='black')\n",
    "    ax.text(x, 70, f'{x:.0f}', \n",
    "            horizontalalignment='center', verticalalignment='center')\n",
    "ax.text(sum(confidence_intervals) / 2, 60, '90% interval',\n",
    "        horizontalalignment='center', verticalalignment='center')\n",
    "\n",
    "mean_income = results.mean()\n",
    "ax.plot([mean_income,mean_income],[0,50],color='black',linestyle='--')\n",
    "ax.text(mean_income, 10, f'Mean: {mean_income:.0f}',\n",
    "        bbox=dict(facecolor='white', edgecolor='white', alpha=0.5),\n",
    "        horizontalalignment='center', verticalalignment='center')\n",
    "ax.set_ylim(0,80)\n",
    "ax.set_ylabel('Counts')\n",
    "plt.tight_layout()\n",
    "plt.show()\n",
    "\n",
    "\"\"\" \n",
    "    firstly just (20) resample from the sample data without replacement and use quantile function to calculate confidence \n",
    "    intervals and crate plot and find mean finally combine to create final graph.\n",
    "\"\"\""
   ]
  },
  {
   "cell_type": "code",
   "execution_count": 9,
   "id": "d05bc091",
   "metadata": {},
   "outputs": [
    {
     "data": {
      "image/png": "[encoded data removed]",
      "text/plain": [
       "<Figure size 288x288 with 1 Axes>"
      ]
     },
     "metadata": {
      "needs_background": "light"
     },
     "output_type": "display_data"
    }
   ],
   "source": [
    "# normal distribution\n",
    "# standard normal and qqplot\n",
    "fig,ax = plt.subplots(figsize=(4,4))\n",
    "normal_sample = stats.norm.rvs(size=100) \n",
    "#In scipy. stats. norm. rvs() the argument scale denotes standard deviation but in the below piece \n",
    "#of code sigma_list refers to an array.\n",
    "stats.probplot(normal_sample,plot=ax)\n",
    "\"\"\"\n",
    "    Generates a probability plot of sample data against the quantiles of a specified theoretical distribution \n",
    "    (the normal distribution by default). probplot optionally \n",
    "    calculates a best-fit line for the data and plots the results using Matplotlib or a given plot function.\n",
    "\"\"\"\n",
    "plt.tight_layout()\n",
    "plt.show()\n"
   ]
  },
  {
   "cell_type": "code",
   "execution_count": 10,
   "id": "2137b1e1",
   "metadata": {},
   "outputs": [
    {
     "name": "stdout",
     "output_type": "stream",
     "text": [
      "Binom_pmf value :  0.07289999999999992\n",
      "Binom_cdf value :  0.99144\n"
     ]
    }
   ],
   "source": [
    "# Binomial distribution\n",
    "binom_pmf = stats.binom.pmf(2,n=5,p=0.1)\n",
    "\"\"\" stats. binom. pmf() function is used to obtain the probability mass function \n",
    "for a certain value of r, n and p. We can obtain the distribution by passing all possible values of r(0 to n). \"\"\"\n",
    "\n",
    "print('Binom_pmf value : ',binom_pmf)\n",
    "\n",
    "binom_cdf = stats.binom.cdf(2,n=5,p=0.1)\n",
    "\"\"\" Python Scipy scipy. stats. binom() function calculates the binomial distribution of an experiment that has two possible \n",
    "outcomes success or failure . \"\"\"\n",
    "\n",
    "print('Binom_cdf value : ',binom_cdf)"
   ]
  },
  {
   "cell_type": "code",
   "execution_count": 18,
   "id": "2244c83e",
   "metadata": {},
   "outputs": [
    {
     "data": {
      "image/png": "[encoded data removed]",
      "text/plain": [
       "<Figure size 432x288 with 1 Axes>"
      ]
     },
     "metadata": {
      "needs_background": "light"
     },
     "output_type": "display_data"
    }
   ],
   "source": [
    "# poisson and related distribution\n",
    "\n",
    "poisson_sample = stats.poisson.rvs(2,size=100)\n",
    "\"\"\" A Poisson discrete random variable. Discrete random variables are defined from a standard form and may require some \n",
    "shape parameters to complete its specification. Any optional keyword parameters \n",
    "can be passed to the methods of the RV object as given below: Parameters : x : array_like. \"\"\"\n",
    "\n",
    "#print(poisson_sample)\n",
    "pd.Series(poisson_sample).plot.hist()\n",
    "plt.show()"
   ]
  },
  {
   "cell_type": "markdown",
   "id": "97c2e6c4",
   "metadata": {},
   "source": [
    "# stats.expon.rvs documentation : https://het.as.utexas.edu/HET/Software/Scipy/generated/scipy.stats.expon.html"
   ]
  },
  {
   "cell_type": "code",
   "execution_count": 12,
   "id": "955dc4f8",
   "metadata": {},
   "outputs": [
    {
     "data": {
      "image/png": "[encoded data removed]",
      "text/plain": [
       "<Figure size 432x288 with 1 Axes>"
      ]
     },
     "metadata": {
      "needs_background": "light"
     },
     "output_type": "display_data"
    }
   ],
   "source": [
    "# Exponential distribution\n",
    "\n",
    "expon_sample = stats.expon.rvs(scale=5,size=100)\n",
    "#print(expon_sample)\n",
    "pd.Series(expon_sample).plot.hist()\n",
    "plt.show()"
   ]
  },
  {
   "cell_type": "markdown",
   "id": "0a9a4c1b",
   "metadata": {},
   "source": [
    "# stats.weibull_min.rvs documentation :https://docs.scipy.org/doc/scipy/reference/generated/scipy.stats.weibull_min.html"
   ]
  },
  {
   "cell_type": "code",
   "execution_count": 13,
   "id": "e0cd21d1",
   "metadata": {},
   "outputs": [
    {
     "data": {
      "image/png": "[encoded data removed]",
      "text/plain": [
       "<Figure size 432x288 with 1 Axes>"
      ]
     },
     "metadata": {
      "needs_background": "light"
     },
     "output_type": "display_data"
    }
   ],
   "source": [
    "# weibull distribution\n",
    "weibull_sample = stats.weibull_min.rvs(1.5,scale=5000,size=100)\n",
    "pd.Series(weibull_sample).plot.hist()\n",
    "plt.show()"
   ]
  }
 ],
 "metadata": {
  "kernelspec": {
   "display_name": "Python 3 (ipykernel)",
   "language": "python",
   "name": "python3"
  },
  "language_info": {
   "codemirror_mode": {
    "name": "ipython",
    "version": 3
   },
   "file_extension": ".py",
   "mimetype": "text/x-python",
   "name": "python",
   "nbconvert_exporter": "python",
   "pygments_lexer": "ipython3",
   "version": "3.9.7"
  }
 },
 "nbformat": 4,
 "nbformat_minor": 5
}
